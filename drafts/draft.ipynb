{
 "cells": [
  {
   "cell_type": "code",
   "execution_count": 1,
   "metadata": {},
   "outputs": [],
   "source": [
    "import numpy as np\n",
    "import pandas as pd\n",
    "import matplotlib.pyplot as plt\n",
    "column_names = ['engine_id', 'cycle', 'setting1', 'setting2', 'setting3'] + [f'sensor{i}' for i in range(1, 27)]\n",
    "train_df = pd.read_csv('./dataset/train_FD001.txt', sep='\\s+', header=None, names=column_names)\n",
    "test_df = pd.read_csv('./dataset/test_FD001.txt', sep='\\s+', header=None, names=column_names)\n",
    "true_rul = pd.read_csv('./dataset/RUL_FD001.txt', header=None)\n",
    "train_df = train_df.dropna(axis=1, how=\"all\")\n",
    "test_df = test_df.dropna(axis=1, how=\"all\")"
   ]
  },
  {
   "cell_type": "code",
   "execution_count": 2,
   "metadata": {},
   "outputs": [],
   "source": [
    "# RNG\n",
    "rng = np.random.RandomState(42)"
   ]
  },
  {
   "cell_type": "code",
   "execution_count": 3,
   "metadata": {},
   "outputs": [],
   "source": [
    "from sklearn.model_selection import train_test_split\n",
    "engine_ids = train_df['engine_id'].unique()\n",
    "train_engine_ids, test_engine_ids = train_test_split(engine_ids, test_size=0.2, random_state=42)"
   ]
  },
  {
   "cell_type": "code",
   "execution_count": 4,
   "metadata": {},
   "outputs": [
    {
     "data": {
      "text/plain": [
       "(array([ 56,  89,  27,  43,  70,  16,  41,  97,  10,  73,  12,  48,  86,\n",
       "         29,  94,   6,  67,  66,  36,  17,  50,  35,   8,  96,  28,  20,\n",
       "         82,  26,  63,  14,  25,   4,  18,  39,   9,  79,   7,  65,  37,\n",
       "         90,  57, 100,  55,  44,  51,  68,  47,  69,  62,  98,  80,  42,\n",
       "         59,  49,  99,  58,  76,  33,  95,  60,  64,  85,  38,  30,   2,\n",
       "         53,  22,   3,  24,  88,  92,  75,  87,  83,  21,  61,  72,  15,\n",
       "         93,  52], dtype=int64),\n",
       " array([84, 54, 71, 46, 45, 40, 23, 81, 11,  1, 19, 31, 74, 34, 91,  5, 77,\n",
       "        78, 13, 32], dtype=int64))"
      ]
     },
     "execution_count": 4,
     "metadata": {},
     "output_type": "execute_result"
    }
   ],
   "source": [
    "train_engine_ids, test_engine_ids"
   ]
  },
  {
   "cell_type": "code",
   "execution_count": 5,
   "metadata": {},
   "outputs": [
    {
     "name": "stdout",
     "output_type": "stream",
     "text": [
      "Training data engines: 80\n",
      "Test data engines: 20\n"
     ]
    }
   ],
   "source": [
    "train_data = train_df[train_df['engine_id'].isin(train_engine_ids)]\n",
    "test_data = train_df[train_df['engine_id'].isin(test_engine_ids)]\n",
    "print(f\"Training data engines: {train_data['engine_id'].nunique()}\")\n",
    "print(f\"Test data engines: {test_data['engine_id'].nunique()}\")"
   ]
  },
  {
   "cell_type": "code",
   "execution_count": 6,
   "metadata": {},
   "outputs": [],
   "source": [
    "columns_to_drop = [\"setting3\", \"sensor1\", \"sensor5\", \"sensor6\", \"sensor10\", \"sensor16\", \"sensor18\", \"sensor19\"]"
   ]
  },
  {
   "cell_type": "code",
   "execution_count": 7,
   "metadata": {},
   "outputs": [],
   "source": [
    "train_df_dropped = train_df.drop(columns=columns_to_drop)"
   ]
  },
  {
   "cell_type": "code",
   "execution_count": 8,
   "metadata": {},
   "outputs": [
    {
     "data": {
      "text/html": [
       "<div>\n",
       "<style scoped>\n",
       "    .dataframe tbody tr th:only-of-type {\n",
       "        vertical-align: middle;\n",
       "    }\n",
       "\n",
       "    .dataframe tbody tr th {\n",
       "        vertical-align: top;\n",
       "    }\n",
       "\n",
       "    .dataframe thead th {\n",
       "        text-align: right;\n",
       "    }\n",
       "</style>\n",
       "<table border=\"1\" class=\"dataframe\">\n",
       "  <thead>\n",
       "    <tr style=\"text-align: right;\">\n",
       "      <th></th>\n",
       "      <th>engine_id</th>\n",
       "      <th>cycle</th>\n",
       "      <th>setting1</th>\n",
       "      <th>setting2</th>\n",
       "      <th>sensor2</th>\n",
       "      <th>sensor3</th>\n",
       "      <th>sensor4</th>\n",
       "      <th>sensor7</th>\n",
       "      <th>sensor8</th>\n",
       "      <th>sensor9</th>\n",
       "      <th>sensor11</th>\n",
       "      <th>sensor12</th>\n",
       "      <th>sensor13</th>\n",
       "      <th>sensor14</th>\n",
       "      <th>sensor15</th>\n",
       "      <th>sensor17</th>\n",
       "      <th>sensor20</th>\n",
       "      <th>sensor21</th>\n",
       "    </tr>\n",
       "  </thead>\n",
       "  <tbody>\n",
       "    <tr>\n",
       "      <th>0</th>\n",
       "      <td>1</td>\n",
       "      <td>1</td>\n",
       "      <td>-0.0007</td>\n",
       "      <td>-0.0004</td>\n",
       "      <td>641.82</td>\n",
       "      <td>1589.70</td>\n",
       "      <td>1400.60</td>\n",
       "      <td>554.36</td>\n",
       "      <td>2388.06</td>\n",
       "      <td>9046.19</td>\n",
       "      <td>47.47</td>\n",
       "      <td>521.66</td>\n",
       "      <td>2388.02</td>\n",
       "      <td>8138.62</td>\n",
       "      <td>8.4195</td>\n",
       "      <td>392</td>\n",
       "      <td>39.06</td>\n",
       "      <td>23.4190</td>\n",
       "    </tr>\n",
       "    <tr>\n",
       "      <th>1</th>\n",
       "      <td>1</td>\n",
       "      <td>2</td>\n",
       "      <td>0.0019</td>\n",
       "      <td>-0.0003</td>\n",
       "      <td>642.15</td>\n",
       "      <td>1591.82</td>\n",
       "      <td>1403.14</td>\n",
       "      <td>553.75</td>\n",
       "      <td>2388.04</td>\n",
       "      <td>9044.07</td>\n",
       "      <td>47.49</td>\n",
       "      <td>522.28</td>\n",
       "      <td>2388.07</td>\n",
       "      <td>8131.49</td>\n",
       "      <td>8.4318</td>\n",
       "      <td>392</td>\n",
       "      <td>39.00</td>\n",
       "      <td>23.4236</td>\n",
       "    </tr>\n",
       "    <tr>\n",
       "      <th>2</th>\n",
       "      <td>1</td>\n",
       "      <td>3</td>\n",
       "      <td>-0.0043</td>\n",
       "      <td>0.0003</td>\n",
       "      <td>642.35</td>\n",
       "      <td>1587.99</td>\n",
       "      <td>1404.20</td>\n",
       "      <td>554.26</td>\n",
       "      <td>2388.08</td>\n",
       "      <td>9052.94</td>\n",
       "      <td>47.27</td>\n",
       "      <td>522.42</td>\n",
       "      <td>2388.03</td>\n",
       "      <td>8133.23</td>\n",
       "      <td>8.4178</td>\n",
       "      <td>390</td>\n",
       "      <td>38.95</td>\n",
       "      <td>23.3442</td>\n",
       "    </tr>\n",
       "    <tr>\n",
       "      <th>3</th>\n",
       "      <td>1</td>\n",
       "      <td>4</td>\n",
       "      <td>0.0007</td>\n",
       "      <td>0.0000</td>\n",
       "      <td>642.35</td>\n",
       "      <td>1582.79</td>\n",
       "      <td>1401.87</td>\n",
       "      <td>554.45</td>\n",
       "      <td>2388.11</td>\n",
       "      <td>9049.48</td>\n",
       "      <td>47.13</td>\n",
       "      <td>522.86</td>\n",
       "      <td>2388.08</td>\n",
       "      <td>8133.83</td>\n",
       "      <td>8.3682</td>\n",
       "      <td>392</td>\n",
       "      <td>38.88</td>\n",
       "      <td>23.3739</td>\n",
       "    </tr>\n",
       "    <tr>\n",
       "      <th>4</th>\n",
       "      <td>1</td>\n",
       "      <td>5</td>\n",
       "      <td>-0.0019</td>\n",
       "      <td>-0.0002</td>\n",
       "      <td>642.37</td>\n",
       "      <td>1582.85</td>\n",
       "      <td>1406.22</td>\n",
       "      <td>554.00</td>\n",
       "      <td>2388.06</td>\n",
       "      <td>9055.15</td>\n",
       "      <td>47.28</td>\n",
       "      <td>522.19</td>\n",
       "      <td>2388.04</td>\n",
       "      <td>8133.80</td>\n",
       "      <td>8.4294</td>\n",
       "      <td>393</td>\n",
       "      <td>38.90</td>\n",
       "      <td>23.4044</td>\n",
       "    </tr>\n",
       "  </tbody>\n",
       "</table>\n",
       "</div>"
      ],
      "text/plain": [
       "   engine_id  cycle  setting1  setting2  sensor2  sensor3  sensor4  sensor7  \\\n",
       "0          1      1   -0.0007   -0.0004   641.82  1589.70  1400.60   554.36   \n",
       "1          1      2    0.0019   -0.0003   642.15  1591.82  1403.14   553.75   \n",
       "2          1      3   -0.0043    0.0003   642.35  1587.99  1404.20   554.26   \n",
       "3          1      4    0.0007    0.0000   642.35  1582.79  1401.87   554.45   \n",
       "4          1      5   -0.0019   -0.0002   642.37  1582.85  1406.22   554.00   \n",
       "\n",
       "   sensor8  sensor9  sensor11  sensor12  sensor13  sensor14  sensor15  \\\n",
       "0  2388.06  9046.19     47.47    521.66   2388.02   8138.62    8.4195   \n",
       "1  2388.04  9044.07     47.49    522.28   2388.07   8131.49    8.4318   \n",
       "2  2388.08  9052.94     47.27    522.42   2388.03   8133.23    8.4178   \n",
       "3  2388.11  9049.48     47.13    522.86   2388.08   8133.83    8.3682   \n",
       "4  2388.06  9055.15     47.28    522.19   2388.04   8133.80    8.4294   \n",
       "\n",
       "   sensor17  sensor20  sensor21  \n",
       "0       392     39.06   23.4190  \n",
       "1       392     39.00   23.4236  \n",
       "2       390     38.95   23.3442  \n",
       "3       392     38.88   23.3739  \n",
       "4       393     38.90   23.4044  "
      ]
     },
     "execution_count": 8,
     "metadata": {},
     "output_type": "execute_result"
    }
   ],
   "source": [
    "train_df_dropped.head()"
   ]
  },
  {
   "cell_type": "code",
   "execution_count": 9,
   "metadata": {},
   "outputs": [
    {
     "name": "stdout",
     "output_type": "stream",
     "text": [
      "Normalized Data (0-1 range):\n",
      "   engine_id  cycle  setting1  setting2   sensor2   sensor3   sensor4  \\\n",
      "0          1      1  0.459770  0.166667  0.183735  0.406802  0.309757   \n",
      "1          1      2  0.609195  0.250000  0.283133  0.453019  0.352633   \n",
      "2          1      3  0.252874  0.750000  0.343373  0.369523  0.370527   \n",
      "3          1      4  0.540230  0.500000  0.343373  0.256159  0.331195   \n",
      "4          1      5  0.390805  0.333333  0.349398  0.257467  0.404625   \n",
      "\n",
      "    sensor7   sensor8   sensor9  sensor11  sensor12  sensor13  sensor14  \\\n",
      "0  0.726248  0.242424  0.109755  0.369048  0.633262  0.205882  0.199608   \n",
      "1  0.628019  0.212121  0.100242  0.380952  0.765458  0.279412  0.162813   \n",
      "2  0.710145  0.272727  0.140043  0.250000  0.795309  0.220588  0.171793   \n",
      "3  0.740741  0.318182  0.124518  0.166667  0.889126  0.294118  0.174889   \n",
      "4  0.668277  0.242424  0.149960  0.255952  0.746269  0.235294  0.174734   \n",
      "\n",
      "   sensor15  sensor17  sensor20  sensor21  \n",
      "0  0.363986  0.333333  0.713178  0.724662  \n",
      "1  0.411312  0.333333  0.666667  0.731014  \n",
      "2  0.357445  0.166667  0.627907  0.621375  \n",
      "3  0.166603  0.333333  0.573643  0.662386  \n",
      "4  0.402078  0.416667  0.589147  0.704502  \n"
     ]
    }
   ],
   "source": [
    "# Normalization\n",
    "from sklearn.preprocessing import MinMaxScaler\n",
    "\n",
    "# Initialize the scaler\n",
    "scaler = MinMaxScaler()\n",
    "\n",
    "# Separate the columns to normalize and the columns to skip\n",
    "columns_to_skip = train_df_dropped.columns[:2]\n",
    "columns_to_normalize = train_df_dropped.columns[2:]\n",
    "\n",
    "# Normalize only the selected columns\n",
    "normalized_data = scaler.fit_transform(train_df_dropped[columns_to_normalize])\n",
    "\n",
    "# Combine the normalized and unnormalized columns\n",
    "train_df_normalized = pd.DataFrame(train_df_dropped[columns_to_skip].values, columns=columns_to_skip)\n",
    "train_df_normalized = pd.concat([train_df_normalized, pd.DataFrame(normalized_data, columns=columns_to_normalize)], axis=1)\n",
    "\n",
    "# Display the normalized DataFrame\n",
    "print(\"Normalized Data (0-1 range):\")\n",
    "print(train_df_normalized.head())"
   ]
  },
  {
   "cell_type": "code",
   "execution_count": 10,
   "metadata": {},
   "outputs": [],
   "source": [
    "# Labelling RUL\n",
    "train_df_normalized['RUL'] = train_df_normalized.groupby('engine_id')['cycle'].transform(lambda x: x.max() - x)\n"
   ]
  },
  {
   "cell_type": "code",
   "execution_count": 11,
   "metadata": {},
   "outputs": [
    {
     "data": {
      "text/plain": [
       "(20631, 19)"
      ]
     },
     "execution_count": 11,
     "metadata": {},
     "output_type": "execute_result"
    }
   ],
   "source": [
    "train_df_normalized.shape"
   ]
  },
  {
   "cell_type": "code",
   "execution_count": 12,
   "metadata": {},
   "outputs": [],
   "source": [
    "# PWRUL\n",
    "# Set the early RUL threshold\n",
    "early_rul_threshold = 120\n",
    "\n",
    "# Define the piecewise linear degradation function\n",
    "def piecewise_rul(cycle, max_cycle):\n",
    "    remaining_life = max_cycle - cycle\n",
    "    if remaining_life > early_rul_threshold:\n",
    "        return early_rul_threshold  # slower degradation in the early phase\n",
    "    else:\n",
    "        return remaining_life  # direct linear degradation after threshold\n",
    "    \n",
    "train_df_normalized[\"PWRUL\"] = train_df_normalized.apply(lambda row: piecewise_rul(row['cycle'], row['cycle'] + row['RUL']), axis=1)"
   ]
  },
  {
   "cell_type": "code",
   "execution_count": 13,
   "metadata": {},
   "outputs": [
    {
     "data": {
      "text/plain": [
       "(20631, 20)"
      ]
     },
     "execution_count": 13,
     "metadata": {},
     "output_type": "execute_result"
    }
   ],
   "source": [
    "train_df_normalized.shape"
   ]
  },
  {
   "cell_type": "code",
   "execution_count": 14,
   "metadata": {},
   "outputs": [],
   "source": [
    "# long_df = train_data.melt(id_vars=['engine_id', 'cycle'], value_vars=[f'sensor{i}' for i in range(1, 22)], \n",
    "#                           var_name='sensor', value_name='value')"
   ]
  },
  {
   "cell_type": "code",
   "execution_count": 15,
   "metadata": {},
   "outputs": [],
   "source": [
    "# long_df = long_df.rename(columns={'cycle': 'time'})"
   ]
  },
  {
   "cell_type": "code",
   "execution_count": 16,
   "metadata": {},
   "outputs": [],
   "source": [
    "# long_df"
   ]
  },
  {
   "cell_type": "code",
   "execution_count": 17,
   "metadata": {},
   "outputs": [],
   "source": [
    "# from tsfresh import extract_features\n",
    "# window_length = 30  # Number of cycles in each window\n",
    "# step_size = 10      # Number of cycles to shift between windows\n",
    "\n",
    "# def create_sliding_windows(df, window_length, step_size):\n",
    "#     windows = []\n",
    "    \n",
    "#     for engine_id in df['engine_id'].unique():\n",
    "#         engine_data = df[df['engine_id'] == engine_id]\n",
    "        \n",
    "#         # Apply sliding window to each engine time series\n",
    "#         for start in range(0, len(engine_data) - window_length + 1, step_size):\n",
    "#             window = engine_data.iloc[start:start + window_length].copy()\n",
    "#             window['window_id'] = f\"{engine_id}_{start}\"\n",
    "#             windows.append(window)\n",
    "    \n",
    "#     # Combine all windows into one DataFrame\n",
    "#     return pd.concat(windows, ignore_index=True)\n",
    "\n",
    "# # Apply the sliding window function to the data\n",
    "# windows_df = create_sliding_windows(train_df_normalized, window_length, step_size)\n",
    "# print(windows_df.head())\n"
   ]
  },
  {
   "cell_type": "code",
   "execution_count": 18,
   "metadata": {},
   "outputs": [],
   "source": [
    "# print(windows_df['window_id'].unique())"
   ]
  },
  {
   "cell_type": "code",
   "execution_count": 19,
   "metadata": {},
   "outputs": [],
   "source": [
    "# windows_df.shape"
   ]
  },
  {
   "cell_type": "code",
   "execution_count": 20,
   "metadata": {},
   "outputs": [],
   "source": [
    "train_df_normalized = train_df_normalized.sort_values(['engine_id', 'cycle'])\n"
   ]
  },
  {
   "cell_type": "code",
   "execution_count": 21,
   "metadata": {},
   "outputs": [],
   "source": [
    "# from tsfresh.utilities.dataframe_functions import roll_time_series\n",
    "# df_rolled = roll_time_series(train_df_numeric, column_id=\"engine_id\", column_sort=\"cycle\", max_timeshift=20, min_timeshift=20)"
   ]
  },
  {
   "cell_type": "code",
   "execution_count": 22,
   "metadata": {},
   "outputs": [],
   "source": [
    "numeric_columns = train_df_normalized.select_dtypes(include=[np.number]).columns\n",
    "train_df_numeric = train_df_normalized[numeric_columns]\n",
    "train_df_numeric = train_df_numeric.fillna(0)"
   ]
  },
  {
   "cell_type": "code",
   "execution_count": 23,
   "metadata": {},
   "outputs": [
    {
     "name": "stderr",
     "output_type": "stream",
     "text": [
      "Rolling: 100%|██████████| 28/28 [00:03<00:00,  8.01it/s]\n"
     ]
    }
   ],
   "source": [
    "from tsfresh.utilities.dataframe_functions import roll_time_series\n",
    "df_rolled = roll_time_series(train_df_numeric, column_id=\"engine_id\", column_sort=\"cycle\", max_timeshift=30 - 1, min_timeshift=30 - 1)"
   ]
  },
  {
   "cell_type": "code",
   "execution_count": 24,
   "metadata": {},
   "outputs": [
    {
     "data": {
      "text/html": [
       "<div>\n",
       "<style scoped>\n",
       "    .dataframe tbody tr th:only-of-type {\n",
       "        vertical-align: middle;\n",
       "    }\n",
       "\n",
       "    .dataframe tbody tr th {\n",
       "        vertical-align: top;\n",
       "    }\n",
       "\n",
       "    .dataframe thead th {\n",
       "        text-align: right;\n",
       "    }\n",
       "</style>\n",
       "<table border=\"1\" class=\"dataframe\">\n",
       "  <thead>\n",
       "    <tr style=\"text-align: right;\">\n",
       "      <th></th>\n",
       "      <th>engine_id</th>\n",
       "      <th>cycle</th>\n",
       "      <th>setting1</th>\n",
       "      <th>setting2</th>\n",
       "      <th>sensor2</th>\n",
       "      <th>sensor3</th>\n",
       "      <th>sensor4</th>\n",
       "      <th>sensor7</th>\n",
       "      <th>sensor8</th>\n",
       "      <th>sensor9</th>\n",
       "      <th>...</th>\n",
       "      <th>sensor12</th>\n",
       "      <th>sensor13</th>\n",
       "      <th>sensor14</th>\n",
       "      <th>sensor15</th>\n",
       "      <th>sensor17</th>\n",
       "      <th>sensor20</th>\n",
       "      <th>sensor21</th>\n",
       "      <th>RUL</th>\n",
       "      <th>PWRUL</th>\n",
       "      <th>id</th>\n",
       "    </tr>\n",
       "  </thead>\n",
       "  <tbody>\n",
       "    <tr>\n",
       "      <th>0</th>\n",
       "      <td>1</td>\n",
       "      <td>1</td>\n",
       "      <td>0.459770</td>\n",
       "      <td>0.166667</td>\n",
       "      <td>0.183735</td>\n",
       "      <td>0.406802</td>\n",
       "      <td>0.309757</td>\n",
       "      <td>0.726248</td>\n",
       "      <td>0.242424</td>\n",
       "      <td>0.109755</td>\n",
       "      <td>...</td>\n",
       "      <td>0.633262</td>\n",
       "      <td>0.205882</td>\n",
       "      <td>0.199608</td>\n",
       "      <td>0.363986</td>\n",
       "      <td>0.333333</td>\n",
       "      <td>0.713178</td>\n",
       "      <td>0.724662</td>\n",
       "      <td>191</td>\n",
       "      <td>120.0</td>\n",
       "      <td>(1, 30)</td>\n",
       "    </tr>\n",
       "    <tr>\n",
       "      <th>1</th>\n",
       "      <td>1</td>\n",
       "      <td>2</td>\n",
       "      <td>0.609195</td>\n",
       "      <td>0.250000</td>\n",
       "      <td>0.283133</td>\n",
       "      <td>0.453019</td>\n",
       "      <td>0.352633</td>\n",
       "      <td>0.628019</td>\n",
       "      <td>0.212121</td>\n",
       "      <td>0.100242</td>\n",
       "      <td>...</td>\n",
       "      <td>0.765458</td>\n",
       "      <td>0.279412</td>\n",
       "      <td>0.162813</td>\n",
       "      <td>0.411312</td>\n",
       "      <td>0.333333</td>\n",
       "      <td>0.666667</td>\n",
       "      <td>0.731014</td>\n",
       "      <td>190</td>\n",
       "      <td>120.0</td>\n",
       "      <td>(1, 30)</td>\n",
       "    </tr>\n",
       "    <tr>\n",
       "      <th>2</th>\n",
       "      <td>1</td>\n",
       "      <td>3</td>\n",
       "      <td>0.252874</td>\n",
       "      <td>0.750000</td>\n",
       "      <td>0.343373</td>\n",
       "      <td>0.369523</td>\n",
       "      <td>0.370527</td>\n",
       "      <td>0.710145</td>\n",
       "      <td>0.272727</td>\n",
       "      <td>0.140043</td>\n",
       "      <td>...</td>\n",
       "      <td>0.795309</td>\n",
       "      <td>0.220588</td>\n",
       "      <td>0.171793</td>\n",
       "      <td>0.357445</td>\n",
       "      <td>0.166667</td>\n",
       "      <td>0.627907</td>\n",
       "      <td>0.621375</td>\n",
       "      <td>189</td>\n",
       "      <td>120.0</td>\n",
       "      <td>(1, 30)</td>\n",
       "    </tr>\n",
       "    <tr>\n",
       "      <th>3</th>\n",
       "      <td>1</td>\n",
       "      <td>4</td>\n",
       "      <td>0.540230</td>\n",
       "      <td>0.500000</td>\n",
       "      <td>0.343373</td>\n",
       "      <td>0.256159</td>\n",
       "      <td>0.331195</td>\n",
       "      <td>0.740741</td>\n",
       "      <td>0.318182</td>\n",
       "      <td>0.124518</td>\n",
       "      <td>...</td>\n",
       "      <td>0.889126</td>\n",
       "      <td>0.294118</td>\n",
       "      <td>0.174889</td>\n",
       "      <td>0.166603</td>\n",
       "      <td>0.333333</td>\n",
       "      <td>0.573643</td>\n",
       "      <td>0.662386</td>\n",
       "      <td>188</td>\n",
       "      <td>120.0</td>\n",
       "      <td>(1, 30)</td>\n",
       "    </tr>\n",
       "    <tr>\n",
       "      <th>4</th>\n",
       "      <td>1</td>\n",
       "      <td>5</td>\n",
       "      <td>0.390805</td>\n",
       "      <td>0.333333</td>\n",
       "      <td>0.349398</td>\n",
       "      <td>0.257467</td>\n",
       "      <td>0.404625</td>\n",
       "      <td>0.668277</td>\n",
       "      <td>0.242424</td>\n",
       "      <td>0.149960</td>\n",
       "      <td>...</td>\n",
       "      <td>0.746269</td>\n",
       "      <td>0.235294</td>\n",
       "      <td>0.174734</td>\n",
       "      <td>0.402078</td>\n",
       "      <td>0.416667</td>\n",
       "      <td>0.589147</td>\n",
       "      <td>0.704502</td>\n",
       "      <td>187</td>\n",
       "      <td>120.0</td>\n",
       "      <td>(1, 30)</td>\n",
       "    </tr>\n",
       "  </tbody>\n",
       "</table>\n",
       "<p>5 rows × 21 columns</p>\n",
       "</div>"
      ],
      "text/plain": [
       "   engine_id  cycle  setting1  setting2   sensor2   sensor3   sensor4  \\\n",
       "0          1      1  0.459770  0.166667  0.183735  0.406802  0.309757   \n",
       "1          1      2  0.609195  0.250000  0.283133  0.453019  0.352633   \n",
       "2          1      3  0.252874  0.750000  0.343373  0.369523  0.370527   \n",
       "3          1      4  0.540230  0.500000  0.343373  0.256159  0.331195   \n",
       "4          1      5  0.390805  0.333333  0.349398  0.257467  0.404625   \n",
       "\n",
       "    sensor7   sensor8   sensor9  ...  sensor12  sensor13  sensor14  sensor15  \\\n",
       "0  0.726248  0.242424  0.109755  ...  0.633262  0.205882  0.199608  0.363986   \n",
       "1  0.628019  0.212121  0.100242  ...  0.765458  0.279412  0.162813  0.411312   \n",
       "2  0.710145  0.272727  0.140043  ...  0.795309  0.220588  0.171793  0.357445   \n",
       "3  0.740741  0.318182  0.124518  ...  0.889126  0.294118  0.174889  0.166603   \n",
       "4  0.668277  0.242424  0.149960  ...  0.746269  0.235294  0.174734  0.402078   \n",
       "\n",
       "   sensor17  sensor20  sensor21  RUL  PWRUL       id  \n",
       "0  0.333333  0.713178  0.724662  191  120.0  (1, 30)  \n",
       "1  0.333333  0.666667  0.731014  190  120.0  (1, 30)  \n",
       "2  0.166667  0.627907  0.621375  189  120.0  (1, 30)  \n",
       "3  0.333333  0.573643  0.662386  188  120.0  (1, 30)  \n",
       "4  0.416667  0.589147  0.704502  187  120.0  (1, 30)  \n",
       "\n",
       "[5 rows x 21 columns]"
      ]
     },
     "execution_count": 24,
     "metadata": {},
     "output_type": "execute_result"
    }
   ],
   "source": [
    "df_rolled.head()"
   ]
  },
  {
   "cell_type": "code",
   "execution_count": 25,
   "metadata": {},
   "outputs": [],
   "source": [
    "df_engine_1 = train_df_normalized[train_df_normalized['engine_id'] == 1]"
   ]
  },
  {
   "cell_type": "code",
   "execution_count": 26,
   "metadata": {},
   "outputs": [
    {
     "data": {
      "text/html": [
       "<div>\n",
       "<style scoped>\n",
       "    .dataframe tbody tr th:only-of-type {\n",
       "        vertical-align: middle;\n",
       "    }\n",
       "\n",
       "    .dataframe tbody tr th {\n",
       "        vertical-align: top;\n",
       "    }\n",
       "\n",
       "    .dataframe thead th {\n",
       "        text-align: right;\n",
       "    }\n",
       "</style>\n",
       "<table border=\"1\" class=\"dataframe\">\n",
       "  <thead>\n",
       "    <tr style=\"text-align: right;\">\n",
       "      <th></th>\n",
       "      <th>engine_id</th>\n",
       "      <th>cycle</th>\n",
       "      <th>setting1</th>\n",
       "      <th>setting2</th>\n",
       "      <th>sensor2</th>\n",
       "      <th>sensor3</th>\n",
       "      <th>sensor4</th>\n",
       "      <th>sensor7</th>\n",
       "      <th>sensor8</th>\n",
       "      <th>sensor9</th>\n",
       "      <th>sensor11</th>\n",
       "      <th>sensor12</th>\n",
       "      <th>sensor13</th>\n",
       "      <th>sensor14</th>\n",
       "      <th>sensor15</th>\n",
       "      <th>sensor17</th>\n",
       "      <th>sensor20</th>\n",
       "      <th>sensor21</th>\n",
       "      <th>RUL</th>\n",
       "      <th>PWRUL</th>\n",
       "    </tr>\n",
       "  </thead>\n",
       "  <tbody>\n",
       "    <tr>\n",
       "      <th>0</th>\n",
       "      <td>1</td>\n",
       "      <td>1</td>\n",
       "      <td>0.459770</td>\n",
       "      <td>0.166667</td>\n",
       "      <td>0.183735</td>\n",
       "      <td>0.406802</td>\n",
       "      <td>0.309757</td>\n",
       "      <td>0.726248</td>\n",
       "      <td>0.242424</td>\n",
       "      <td>0.109755</td>\n",
       "      <td>0.369048</td>\n",
       "      <td>0.633262</td>\n",
       "      <td>0.205882</td>\n",
       "      <td>0.199608</td>\n",
       "      <td>0.363986</td>\n",
       "      <td>0.333333</td>\n",
       "      <td>0.713178</td>\n",
       "      <td>0.724662</td>\n",
       "      <td>191</td>\n",
       "      <td>120.0</td>\n",
       "    </tr>\n",
       "    <tr>\n",
       "      <th>1</th>\n",
       "      <td>1</td>\n",
       "      <td>2</td>\n",
       "      <td>0.609195</td>\n",
       "      <td>0.250000</td>\n",
       "      <td>0.283133</td>\n",
       "      <td>0.453019</td>\n",
       "      <td>0.352633</td>\n",
       "      <td>0.628019</td>\n",
       "      <td>0.212121</td>\n",
       "      <td>0.100242</td>\n",
       "      <td>0.380952</td>\n",
       "      <td>0.765458</td>\n",
       "      <td>0.279412</td>\n",
       "      <td>0.162813</td>\n",
       "      <td>0.411312</td>\n",
       "      <td>0.333333</td>\n",
       "      <td>0.666667</td>\n",
       "      <td>0.731014</td>\n",
       "      <td>190</td>\n",
       "      <td>120.0</td>\n",
       "    </tr>\n",
       "    <tr>\n",
       "      <th>2</th>\n",
       "      <td>1</td>\n",
       "      <td>3</td>\n",
       "      <td>0.252874</td>\n",
       "      <td>0.750000</td>\n",
       "      <td>0.343373</td>\n",
       "      <td>0.369523</td>\n",
       "      <td>0.370527</td>\n",
       "      <td>0.710145</td>\n",
       "      <td>0.272727</td>\n",
       "      <td>0.140043</td>\n",
       "      <td>0.250000</td>\n",
       "      <td>0.795309</td>\n",
       "      <td>0.220588</td>\n",
       "      <td>0.171793</td>\n",
       "      <td>0.357445</td>\n",
       "      <td>0.166667</td>\n",
       "      <td>0.627907</td>\n",
       "      <td>0.621375</td>\n",
       "      <td>189</td>\n",
       "      <td>120.0</td>\n",
       "    </tr>\n",
       "    <tr>\n",
       "      <th>3</th>\n",
       "      <td>1</td>\n",
       "      <td>4</td>\n",
       "      <td>0.540230</td>\n",
       "      <td>0.500000</td>\n",
       "      <td>0.343373</td>\n",
       "      <td>0.256159</td>\n",
       "      <td>0.331195</td>\n",
       "      <td>0.740741</td>\n",
       "      <td>0.318182</td>\n",
       "      <td>0.124518</td>\n",
       "      <td>0.166667</td>\n",
       "      <td>0.889126</td>\n",
       "      <td>0.294118</td>\n",
       "      <td>0.174889</td>\n",
       "      <td>0.166603</td>\n",
       "      <td>0.333333</td>\n",
       "      <td>0.573643</td>\n",
       "      <td>0.662386</td>\n",
       "      <td>188</td>\n",
       "      <td>120.0</td>\n",
       "    </tr>\n",
       "    <tr>\n",
       "      <th>4</th>\n",
       "      <td>1</td>\n",
       "      <td>5</td>\n",
       "      <td>0.390805</td>\n",
       "      <td>0.333333</td>\n",
       "      <td>0.349398</td>\n",
       "      <td>0.257467</td>\n",
       "      <td>0.404625</td>\n",
       "      <td>0.668277</td>\n",
       "      <td>0.242424</td>\n",
       "      <td>0.149960</td>\n",
       "      <td>0.255952</td>\n",
       "      <td>0.746269</td>\n",
       "      <td>0.235294</td>\n",
       "      <td>0.174734</td>\n",
       "      <td>0.402078</td>\n",
       "      <td>0.416667</td>\n",
       "      <td>0.589147</td>\n",
       "      <td>0.704502</td>\n",
       "      <td>187</td>\n",
       "      <td>120.0</td>\n",
       "    </tr>\n",
       "  </tbody>\n",
       "</table>\n",
       "</div>"
      ],
      "text/plain": [
       "   engine_id  cycle  setting1  setting2   sensor2   sensor3   sensor4  \\\n",
       "0          1      1  0.459770  0.166667  0.183735  0.406802  0.309757   \n",
       "1          1      2  0.609195  0.250000  0.283133  0.453019  0.352633   \n",
       "2          1      3  0.252874  0.750000  0.343373  0.369523  0.370527   \n",
       "3          1      4  0.540230  0.500000  0.343373  0.256159  0.331195   \n",
       "4          1      5  0.390805  0.333333  0.349398  0.257467  0.404625   \n",
       "\n",
       "    sensor7   sensor8   sensor9  sensor11  sensor12  sensor13  sensor14  \\\n",
       "0  0.726248  0.242424  0.109755  0.369048  0.633262  0.205882  0.199608   \n",
       "1  0.628019  0.212121  0.100242  0.380952  0.765458  0.279412  0.162813   \n",
       "2  0.710145  0.272727  0.140043  0.250000  0.795309  0.220588  0.171793   \n",
       "3  0.740741  0.318182  0.124518  0.166667  0.889126  0.294118  0.174889   \n",
       "4  0.668277  0.242424  0.149960  0.255952  0.746269  0.235294  0.174734   \n",
       "\n",
       "   sensor15  sensor17  sensor20  sensor21  RUL  PWRUL  \n",
       "0  0.363986  0.333333  0.713178  0.724662  191  120.0  \n",
       "1  0.411312  0.333333  0.666667  0.731014  190  120.0  \n",
       "2  0.357445  0.166667  0.627907  0.621375  189  120.0  \n",
       "3  0.166603  0.333333  0.573643  0.662386  188  120.0  \n",
       "4  0.402078  0.416667  0.589147  0.704502  187  120.0  "
      ]
     },
     "execution_count": 26,
     "metadata": {},
     "output_type": "execute_result"
    }
   ],
   "source": [
    "df_engine_1.head()"
   ]
  },
  {
   "cell_type": "code",
   "execution_count": 27,
   "metadata": {},
   "outputs": [],
   "source": [
    "# if 'RUL' not in df_engine_1.columns:\n",
    "#     print(\"Column 'RUL' does not exist in df_engine_1.\")"
   ]
  },
  {
   "cell_type": "code",
   "execution_count": 28,
   "metadata": {},
   "outputs": [],
   "source": [
    "# from tsfresh import extract_relevant_features\n",
    "\n",
    "# try:\n",
    "#     X_relevant = extract_relevant_features(df_engine_1, y=df_engine_1[\"RUL\"], column_sort=\"cycle\")\n",
    "# except KeyError as e:\n",
    "#     print(f\"KeyError: {e}. Check that 'RUL' and 'cycle' are columns in df_engine_1.\")"
   ]
  },
  {
   "cell_type": "code",
   "execution_count": null,
   "metadata": {},
   "outputs": [
    {
     "name": "stderr",
     "output_type": "stream",
     "text": [
      "Feature Extraction:   0%|          | 0/30 [00:00<?, ?it/s]"
     ]
    }
   ],
   "source": [
    "from tsfresh import extract_features\n",
    "features = extract_features(df_rolled, column_id=\"id\", column_sort=\"cycle\")"
   ]
  },
  {
   "cell_type": "code",
   "execution_count": 40,
   "metadata": {},
   "outputs": [],
   "source": [
    "# from tsfresh import extract_features\n",
    "\n",
    "# extracted_features = extract_features(df_rolled, column_id=\"id\", column_sort=\"cycle\")  # Use all available cores"
   ]
  },
  {
   "cell_type": "code",
   "execution_count": 41,
   "metadata": {},
   "outputs": [],
   "source": [
    "# extracted_features = extract_features(long_df, column_id='engine_id', column_sort='time', column_kind='sensor', column_value='value')\n",
    "# extracted_features.shape"
   ]
  },
  {
   "cell_type": "code",
   "execution_count": 42,
   "metadata": {},
   "outputs": [],
   "source": [
    "# from tsfresh import select_features\n",
    "# from tsfresh.utilities.dataframe_functions import impute\n",
    "\n",
    "# # Assume `target_rul` is a Series with RUL values for each engine\n",
    "# impute(extracted_features)  # Handle missing values in extracted features\n",
    "# selected_features = select_features(extracted_features, train_df_normalized['PWRUL'])"
   ]
  }
 ],
 "metadata": {
  "kernelspec": {
   "display_name": "Python 3",
   "language": "python",
   "name": "python3"
  },
  "language_info": {
   "codemirror_mode": {
    "name": "ipython",
    "version": 3
   },
   "file_extension": ".py",
   "mimetype": "text/x-python",
   "name": "python",
   "nbconvert_exporter": "python",
   "pygments_lexer": "ipython3",
   "version": "3.10.5"
  }
 },
 "nbformat": 4,
 "nbformat_minor": 2
}
