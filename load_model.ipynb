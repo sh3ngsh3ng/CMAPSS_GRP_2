{
 "cells": [
  {
   "cell_type": "code",
   "execution_count": 39,
   "metadata": {},
   "outputs": [],
   "source": [
    "import numpy as np\n",
    "import pandas as pd\n",
    "column_names = ['engine_id', 'cycle', 'setting1', 'setting2', 'setting3'] + [f'sensor{i}' for i in range(1, 27)]\n",
    "test_df = pd.read_csv('./dataset/test_FD001.txt', sep='\\s+', header=None, names=column_names)\n",
    "true_rul = pd.read_csv('./dataset/RUL_FD001.txt', header=None)\n",
    "test_df = test_df.dropna(axis=1, how=\"all\")"
   ]
  },
  {
   "cell_type": "code",
   "execution_count": 40,
   "metadata": {},
   "outputs": [],
   "source": [
    "import pickle\n",
    "\n",
    "# Load the scaler from the file\n",
    "with open('minmax_scaler.pkl', 'rb') as file:\n",
    "    scaler = pickle.load(file)\n"
   ]
  },
  {
   "cell_type": "code",
   "execution_count": 41,
   "metadata": {},
   "outputs": [],
   "source": [
    "columns_to_drop = [\"setting3\", \"sensor1\", \"sensor5\", \"sensor6\", \"sensor10\", \"sensor16\", \"sensor18\", \"sensor19\"]\n",
    "test_df_dropped = test_df.drop(columns=columns_to_drop)"
   ]
  },
  {
   "cell_type": "code",
   "execution_count": 42,
   "metadata": {},
   "outputs": [],
   "source": [
    "columns_to_skip = test_df_dropped.columns[:2]\n",
    "columns_to_normalize = test_df_dropped.columns[2:]"
   ]
  },
  {
   "cell_type": "code",
   "execution_count": 43,
   "metadata": {},
   "outputs": [],
   "source": [
    "# Normalize test data using the same scaler\n",
    "normalized_test_data = scaler.transform(test_df_dropped[columns_to_normalize])\n",
    "\n",
    "# Combine normalized and unnormalized columns in test data\n",
    "test_df_normalized = pd.DataFrame(test_df_dropped[columns_to_skip].values, columns=columns_to_skip)\n",
    "test_df_normalized = pd.concat([test_df_normalized, pd.DataFrame(normalized_test_data, columns=columns_to_normalize)], axis=1)"
   ]
  },
  {
   "cell_type": "code",
   "execution_count": 44,
   "metadata": {},
   "outputs": [],
   "source": [
    "from tensorflow.keras.models import load_model\n",
    "\n",
    "# Load the model from the HDF5 file\n",
    "model = load_model('pwrul_prediction_model.h5')"
   ]
  },
  {
   "cell_type": "code",
   "execution_count": 45,
   "metadata": {},
   "outputs": [
    {
     "name": "stdout",
     "output_type": "stream",
     "text": [
      "4/4 [==============================] - 0s 2ms/step\n",
      "Test Mean Squared Error: 222.4735336860263\n"
     ]
    }
   ],
   "source": [
    "from sklearn.metrics import mean_squared_error\n",
    "\n",
    "# Identify feature columns\n",
    "feature_columns = [col for col in test_df_normalized.columns if col not in ['engine_id', 'cycle', 'RUL', 'PWRUL']]\n",
    "\n",
    "# Define sequence length\n",
    "sequence_length = 30\n",
    "\n",
    "X_test = []\n",
    "y_test = []\n",
    "\n",
    "for engine_id in test_df_normalized['engine_id'].unique():\n",
    "    engine_data = test_df_normalized[test_df_normalized['engine_id'] == engine_id].reset_index(drop=True)\n",
    "    if len(engine_data) >= sequence_length:\n",
    "        # Use only the last sequence\n",
    "        seq_x = engine_data[feature_columns].iloc[-sequence_length:].values\n",
    "        X_test.append(seq_x)\n",
    "        # Get the true RUL for this engine\n",
    "        seq_y = true_rul.loc[engine_id - 1].values[0]\n",
    "        y_test.append(seq_y)\n",
    "    else:\n",
    "        print(f\"Engine {engine_id} has insufficient data for the defined sequence length.\")\n",
    "\n",
    "X_test = np.array(X_test)\n",
    "y_test = np.array(y_test)\n",
    "\n",
    "# Predict RUL on test data\n",
    "y_test_pred = model.predict(X_test)\n",
    "\n",
    "# Evaluate\n",
    "test_mse = mean_squared_error(y_test, y_test_pred)\n",
    "print(\"Test Mean Squared Error:\", test_mse)"
   ]
  }
 ],
 "metadata": {
  "kernelspec": {
   "display_name": "Python 3",
   "language": "python",
   "name": "python3"
  },
  "language_info": {
   "codemirror_mode": {
    "name": "ipython",
    "version": 3
   },
   "file_extension": ".py",
   "mimetype": "text/x-python",
   "name": "python",
   "nbconvert_exporter": "python",
   "pygments_lexer": "ipython3",
   "version": "3.10.5"
  }
 },
 "nbformat": 4,
 "nbformat_minor": 2
}
